{
  "nbformat": 4,
  "nbformat_minor": 0,
  "metadata": {
    "colab": {
      "provenance": []
    },
    "kernelspec": {
      "name": "python3",
      "display_name": "Python 3"
    },
    "language_info": {
      "name": "python"
    }
  },
  "cells": [
    {
      "cell_type": "markdown",
      "source": [
        "# Financial Market News Sentiment Analysis"
      ],
      "metadata": {
        "id": "hv1U4EsIRktp"
      }
    },
    {
      "cell_type": "markdown",
      "source": [
        "## This is a data (dummy) of Financial Market Top 25 News for the Day and Task is to Train and Predict Model for Overall Sentiment Analysis"
      ],
      "metadata": {
        "id": "LbaW6TSWSAfv"
      }
    },
    {
      "cell_type": "markdown",
      "source": [
        "# Import Library"
      ],
      "metadata": {
        "id": "p9m52_7RSFH1"
      }
    },
    {
      "cell_type": "code",
      "source": [
        "import pandas as pd"
      ],
      "metadata": {
        "id": "EC_11lJdSKnM"
      },
      "execution_count": 1,
      "outputs": []
    },
    {
      "cell_type": "code",
      "source": [
        "import numpy as np"
      ],
      "metadata": {
        "id": "wvcagghzSY8H"
      },
      "execution_count": 2,
      "outputs": []
    },
    {
      "cell_type": "markdown",
      "source": [
        "## Import Dataset"
      ],
      "metadata": {
        "id": "sCg9kyeQSba5"
      }
    },
    {
      "cell_type": "code",
      "source": [
        "df = pd.read_csv(r\"/content/drive/MyDrive/InternShip/Fin_Cleaned.csv\")"
      ],
      "metadata": {
        "id": "FfpieqzVSdPs"
      },
      "execution_count": 7,
      "outputs": []
    },
    {
      "cell_type": "code",
      "source": [
        "df.head()"
      ],
      "metadata": {
        "colab": {
          "base_uri": "https://localhost:8080/",
          "height": 206
        },
        "id": "clXF2rdzWVDO",
        "outputId": "48360357-49aa-4543-b00e-2d114698e42a"
      },
      "execution_count": 8,
      "outputs": [
        {
          "output_type": "execute_result",
          "data": {
            "text/plain": [
              "  Date_published                                           Headline  \\\n",
              "0     2022-06-21  Banks holding on to subsidy share, say payment...   \n",
              "1     2022-04-19  Digitally ready Bank of Baroda aims to click o...   \n",
              "2     2022-05-27  Karnataka attracted investment commitment of R...   \n",
              "3     2022-04-06  Splitting of provident fund accounts may be de...   \n",
              "4     2022-06-14  Irdai weighs proposal to privatise Insurance I...   \n",
              "\n",
              "                                            Synopsis  \\\n",
              "0  The companies have written to the National Pay...   \n",
              "1  At present, 50% of the bank's retail loans are...   \n",
              "2  Karnataka is at the forefront in attracting in...   \n",
              "3  The EPFO is likely to split accounts only at t...   \n",
              "4  Set up in 2009 as an advisory body, IIB collec...   \n",
              "\n",
              "                                           Full_text Final Status  \n",
              "0  ReutersPayments companies and banks are at log...     Negative  \n",
              "1  AgenciesThe bank presently has 20 million acti...     Positive  \n",
              "2  PTIKarnataka Chief Minister Basavaraj Bommai.K...     Positive  \n",
              "3  Getty ImagesThe budget for FY22 had imposed in...     Negative  \n",
              "4  AgenciesThere is a view in the insurance indus...     Positive  "
            ],
            "text/html": [
              "\n",
              "  <div id=\"df-2c9be30e-dbad-4693-b44a-3e313637ea7b\" class=\"colab-df-container\">\n",
              "    <div>\n",
              "<style scoped>\n",
              "    .dataframe tbody tr th:only-of-type {\n",
              "        vertical-align: middle;\n",
              "    }\n",
              "\n",
              "    .dataframe tbody tr th {\n",
              "        vertical-align: top;\n",
              "    }\n",
              "\n",
              "    .dataframe thead th {\n",
              "        text-align: right;\n",
              "    }\n",
              "</style>\n",
              "<table border=\"1\" class=\"dataframe\">\n",
              "  <thead>\n",
              "    <tr style=\"text-align: right;\">\n",
              "      <th></th>\n",
              "      <th>Date_published</th>\n",
              "      <th>Headline</th>\n",
              "      <th>Synopsis</th>\n",
              "      <th>Full_text</th>\n",
              "      <th>Final Status</th>\n",
              "    </tr>\n",
              "  </thead>\n",
              "  <tbody>\n",
              "    <tr>\n",
              "      <th>0</th>\n",
              "      <td>2022-06-21</td>\n",
              "      <td>Banks holding on to subsidy share, say payment...</td>\n",
              "      <td>The companies have written to the National Pay...</td>\n",
              "      <td>ReutersPayments companies and banks are at log...</td>\n",
              "      <td>Negative</td>\n",
              "    </tr>\n",
              "    <tr>\n",
              "      <th>1</th>\n",
              "      <td>2022-04-19</td>\n",
              "      <td>Digitally ready Bank of Baroda aims to click o...</td>\n",
              "      <td>At present, 50% of the bank's retail loans are...</td>\n",
              "      <td>AgenciesThe bank presently has 20 million acti...</td>\n",
              "      <td>Positive</td>\n",
              "    </tr>\n",
              "    <tr>\n",
              "      <th>2</th>\n",
              "      <td>2022-05-27</td>\n",
              "      <td>Karnataka attracted investment commitment of R...</td>\n",
              "      <td>Karnataka is at the forefront in attracting in...</td>\n",
              "      <td>PTIKarnataka Chief Minister Basavaraj Bommai.K...</td>\n",
              "      <td>Positive</td>\n",
              "    </tr>\n",
              "    <tr>\n",
              "      <th>3</th>\n",
              "      <td>2022-04-06</td>\n",
              "      <td>Splitting of provident fund accounts may be de...</td>\n",
              "      <td>The EPFO is likely to split accounts only at t...</td>\n",
              "      <td>Getty ImagesThe budget for FY22 had imposed in...</td>\n",
              "      <td>Negative</td>\n",
              "    </tr>\n",
              "    <tr>\n",
              "      <th>4</th>\n",
              "      <td>2022-06-14</td>\n",
              "      <td>Irdai weighs proposal to privatise Insurance I...</td>\n",
              "      <td>Set up in 2009 as an advisory body, IIB collec...</td>\n",
              "      <td>AgenciesThere is a view in the insurance indus...</td>\n",
              "      <td>Positive</td>\n",
              "    </tr>\n",
              "  </tbody>\n",
              "</table>\n",
              "</div>\n",
              "    <div class=\"colab-df-buttons\">\n",
              "\n",
              "  <div class=\"colab-df-container\">\n",
              "    <button class=\"colab-df-convert\" onclick=\"convertToInteractive('df-2c9be30e-dbad-4693-b44a-3e313637ea7b')\"\n",
              "            title=\"Convert this dataframe to an interactive table.\"\n",
              "            style=\"display:none;\">\n",
              "\n",
              "  <svg xmlns=\"http://www.w3.org/2000/svg\" height=\"24px\" viewBox=\"0 -960 960 960\">\n",
              "    <path d=\"M120-120v-720h720v720H120Zm60-500h600v-160H180v160Zm220 220h160v-160H400v160Zm0 220h160v-160H400v160ZM180-400h160v-160H180v160Zm440 0h160v-160H620v160ZM180-180h160v-160H180v160Zm440 0h160v-160H620v160Z\"/>\n",
              "  </svg>\n",
              "    </button>\n",
              "\n",
              "  <style>\n",
              "    .colab-df-container {\n",
              "      display:flex;\n",
              "      gap: 12px;\n",
              "    }\n",
              "\n",
              "    .colab-df-convert {\n",
              "      background-color: #E8F0FE;\n",
              "      border: none;\n",
              "      border-radius: 50%;\n",
              "      cursor: pointer;\n",
              "      display: none;\n",
              "      fill: #1967D2;\n",
              "      height: 32px;\n",
              "      padding: 0 0 0 0;\n",
              "      width: 32px;\n",
              "    }\n",
              "\n",
              "    .colab-df-convert:hover {\n",
              "      background-color: #E2EBFA;\n",
              "      box-shadow: 0px 1px 2px rgba(60, 64, 67, 0.3), 0px 1px 3px 1px rgba(60, 64, 67, 0.15);\n",
              "      fill: #174EA6;\n",
              "    }\n",
              "\n",
              "    .colab-df-buttons div {\n",
              "      margin-bottom: 4px;\n",
              "    }\n",
              "\n",
              "    [theme=dark] .colab-df-convert {\n",
              "      background-color: #3B4455;\n",
              "      fill: #D2E3FC;\n",
              "    }\n",
              "\n",
              "    [theme=dark] .colab-df-convert:hover {\n",
              "      background-color: #434B5C;\n",
              "      box-shadow: 0px 1px 3px 1px rgba(0, 0, 0, 0.15);\n",
              "      filter: drop-shadow(0px 1px 2px rgba(0, 0, 0, 0.3));\n",
              "      fill: #FFFFFF;\n",
              "    }\n",
              "  </style>\n",
              "\n",
              "    <script>\n",
              "      const buttonEl =\n",
              "        document.querySelector('#df-2c9be30e-dbad-4693-b44a-3e313637ea7b button.colab-df-convert');\n",
              "      buttonEl.style.display =\n",
              "        google.colab.kernel.accessAllowed ? 'block' : 'none';\n",
              "\n",
              "      async function convertToInteractive(key) {\n",
              "        const element = document.querySelector('#df-2c9be30e-dbad-4693-b44a-3e313637ea7b');\n",
              "        const dataTable =\n",
              "          await google.colab.kernel.invokeFunction('convertToInteractive',\n",
              "                                                    [key], {});\n",
              "        if (!dataTable) return;\n",
              "\n",
              "        const docLinkHtml = 'Like what you see? Visit the ' +\n",
              "          '<a target=\"_blank\" href=https://colab.research.google.com/notebooks/data_table.ipynb>data table notebook</a>'\n",
              "          + ' to learn more about interactive tables.';\n",
              "        element.innerHTML = '';\n",
              "        dataTable['output_type'] = 'display_data';\n",
              "        await google.colab.output.renderOutput(dataTable, element);\n",
              "        const docLink = document.createElement('div');\n",
              "        docLink.innerHTML = docLinkHtml;\n",
              "        element.appendChild(docLink);\n",
              "      }\n",
              "    </script>\n",
              "  </div>\n",
              "\n",
              "\n",
              "<div id=\"df-888c2324-3a8a-4e4f-8921-1da46581edd1\">\n",
              "  <button class=\"colab-df-quickchart\" onclick=\"quickchart('df-888c2324-3a8a-4e4f-8921-1da46581edd1')\"\n",
              "            title=\"Suggest charts\"\n",
              "            style=\"display:none;\">\n",
              "\n",
              "<svg xmlns=\"http://www.w3.org/2000/svg\" height=\"24px\"viewBox=\"0 0 24 24\"\n",
              "     width=\"24px\">\n",
              "    <g>\n",
              "        <path d=\"M19 3H5c-1.1 0-2 .9-2 2v14c0 1.1.9 2 2 2h14c1.1 0 2-.9 2-2V5c0-1.1-.9-2-2-2zM9 17H7v-7h2v7zm4 0h-2V7h2v10zm4 0h-2v-4h2v4z\"/>\n",
              "    </g>\n",
              "</svg>\n",
              "  </button>\n",
              "\n",
              "<style>\n",
              "  .colab-df-quickchart {\n",
              "      --bg-color: #E8F0FE;\n",
              "      --fill-color: #1967D2;\n",
              "      --hover-bg-color: #E2EBFA;\n",
              "      --hover-fill-color: #174EA6;\n",
              "      --disabled-fill-color: #AAA;\n",
              "      --disabled-bg-color: #DDD;\n",
              "  }\n",
              "\n",
              "  [theme=dark] .colab-df-quickchart {\n",
              "      --bg-color: #3B4455;\n",
              "      --fill-color: #D2E3FC;\n",
              "      --hover-bg-color: #434B5C;\n",
              "      --hover-fill-color: #FFFFFF;\n",
              "      --disabled-bg-color: #3B4455;\n",
              "      --disabled-fill-color: #666;\n",
              "  }\n",
              "\n",
              "  .colab-df-quickchart {\n",
              "    background-color: var(--bg-color);\n",
              "    border: none;\n",
              "    border-radius: 50%;\n",
              "    cursor: pointer;\n",
              "    display: none;\n",
              "    fill: var(--fill-color);\n",
              "    height: 32px;\n",
              "    padding: 0;\n",
              "    width: 32px;\n",
              "  }\n",
              "\n",
              "  .colab-df-quickchart:hover {\n",
              "    background-color: var(--hover-bg-color);\n",
              "    box-shadow: 0 1px 2px rgba(60, 64, 67, 0.3), 0 1px 3px 1px rgba(60, 64, 67, 0.15);\n",
              "    fill: var(--button-hover-fill-color);\n",
              "  }\n",
              "\n",
              "  .colab-df-quickchart-complete:disabled,\n",
              "  .colab-df-quickchart-complete:disabled:hover {\n",
              "    background-color: var(--disabled-bg-color);\n",
              "    fill: var(--disabled-fill-color);\n",
              "    box-shadow: none;\n",
              "  }\n",
              "\n",
              "  .colab-df-spinner {\n",
              "    border: 2px solid var(--fill-color);\n",
              "    border-color: transparent;\n",
              "    border-bottom-color: var(--fill-color);\n",
              "    animation:\n",
              "      spin 1s steps(1) infinite;\n",
              "  }\n",
              "\n",
              "  @keyframes spin {\n",
              "    0% {\n",
              "      border-color: transparent;\n",
              "      border-bottom-color: var(--fill-color);\n",
              "      border-left-color: var(--fill-color);\n",
              "    }\n",
              "    20% {\n",
              "      border-color: transparent;\n",
              "      border-left-color: var(--fill-color);\n",
              "      border-top-color: var(--fill-color);\n",
              "    }\n",
              "    30% {\n",
              "      border-color: transparent;\n",
              "      border-left-color: var(--fill-color);\n",
              "      border-top-color: var(--fill-color);\n",
              "      border-right-color: var(--fill-color);\n",
              "    }\n",
              "    40% {\n",
              "      border-color: transparent;\n",
              "      border-right-color: var(--fill-color);\n",
              "      border-top-color: var(--fill-color);\n",
              "    }\n",
              "    60% {\n",
              "      border-color: transparent;\n",
              "      border-right-color: var(--fill-color);\n",
              "    }\n",
              "    80% {\n",
              "      border-color: transparent;\n",
              "      border-right-color: var(--fill-color);\n",
              "      border-bottom-color: var(--fill-color);\n",
              "    }\n",
              "    90% {\n",
              "      border-color: transparent;\n",
              "      border-bottom-color: var(--fill-color);\n",
              "    }\n",
              "  }\n",
              "</style>\n",
              "\n",
              "  <script>\n",
              "    async function quickchart(key) {\n",
              "      const quickchartButtonEl =\n",
              "        document.querySelector('#' + key + ' button');\n",
              "      quickchartButtonEl.disabled = true;  // To prevent multiple clicks.\n",
              "      quickchartButtonEl.classList.add('colab-df-spinner');\n",
              "      try {\n",
              "        const charts = await google.colab.kernel.invokeFunction(\n",
              "            'suggestCharts', [key], {});\n",
              "      } catch (error) {\n",
              "        console.error('Error during call to suggestCharts:', error);\n",
              "      }\n",
              "      quickchartButtonEl.classList.remove('colab-df-spinner');\n",
              "      quickchartButtonEl.classList.add('colab-df-quickchart-complete');\n",
              "    }\n",
              "    (() => {\n",
              "      let quickchartButtonEl =\n",
              "        document.querySelector('#df-888c2324-3a8a-4e4f-8921-1da46581edd1 button');\n",
              "      quickchartButtonEl.style.display =\n",
              "        google.colab.kernel.accessAllowed ? 'block' : 'none';\n",
              "    })();\n",
              "  </script>\n",
              "</div>\n",
              "\n",
              "    </div>\n",
              "  </div>\n"
            ],
            "application/vnd.google.colaboratory.intrinsic+json": {
              "type": "dataframe",
              "variable_name": "df",
              "summary": "{\n  \"name\": \"df\",\n  \"rows\": 400,\n  \"fields\": [\n    {\n      \"column\": \"Date_published\",\n      \"properties\": {\n        \"dtype\": \"object\",\n        \"num_unique_values\": 75,\n        \"samples\": [\n          \"2022-06-14\",\n          \"2022-06-30\",\n          \"2022-06-20\"\n        ],\n        \"semantic_type\": \"\",\n        \"description\": \"\"\n      }\n    },\n    {\n      \"column\": \"Headline\",\n      \"properties\": {\n        \"dtype\": \"string\",\n        \"num_unique_values\": 368,\n        \"samples\": [\n          \"Sensex  rises! These  stocks are up over 10% on BSE\",\n          \"Govt puts Pawan Hans sale on hold over NCLT order against winning consortium member\",\n          \"India's March WPI inflation accelerates to record 14.55%\"\n        ],\n        \"semantic_type\": \"\",\n        \"description\": \"\"\n      }\n    },\n    {\n      \"column\": \"Synopsis\",\n      \"properties\": {\n        \"dtype\": \"string\",\n        \"num_unique_values\": 398,\n        \"samples\": [\n          \"Robinhood said on Tuesday it was laying off about 9% of its full-time employees, adding rapid headcount growth had led to some duplicate roles and job functions.\",\n          \"Calling the stock 'attractively valued' analysts have price targets that hint at up to 56 per cent upside for the counter. Loan growth surprised positively and this improvement will be the key catalyst for the stock, said Nomura India, which has a target of Rs 615 on the stock.\",\n          \"Star9 Mobility had quoted Rs 211.14 crore for Pawan Hans, which was above the Reserve Price of Rs 199.92 crore fixed by the government on the basis of valuation carried out by the transaction adviser and asset valuer.\"\n        ],\n        \"semantic_type\": \"\",\n        \"description\": \"\"\n      }\n    },\n    {\n      \"column\": \"Full_text\",\n      \"properties\": {\n        \"dtype\": \"string\",\n        \"num_unique_values\": 400,\n        \"samples\": [\n          \"Getty ImagesNagaraj Shetti, Technical Research Analyst at HDFC Securities, believes Monday's pattern could be considered as a High Wave, which reflects high volatility in the market at swing highs.Shares of Voltas Ltd. slipped 4.33 per cent to Rs 1247.95 in Monday's trade. It hit a high of Rs 1285.35 and low of Rs 1242.15 during the session. \\n\\n On the technical charts, the 200-DMA of the stock stood at Rs 1180.29, while the 50-DMA was at Rs 1239.5. If a stock trades above 50-DMA and 200-DMA, it usually means the immediate trend is upward. On the other hand, if the stock trades below 50-DMA and 200-DMA, it is considered a bearish trend and if trades between these averages, then it suggests the stock can go either way. \\n\\n The stock traded below the signal line of momentum indicator moving average convergence divergence, or MACD, signalling a bearish bias on the counter. The MACD is known for signalling trend reversal in traded securities or indices. It is the difference between the 26-day and 12-day exponential moving averages. A nine-day exponential moving average, called the signal line, is plotted on top of the MACD to reflect \\\"buy\\\" or \\\"sell\\\" opportunities. \\n\\n On the other hand, the Relative Strength Index (RSI) of the stock stands at 46.22. Traditionally, a stock is considered overbought when the RSI value is above 70 and oversold when it is below 30. \\n\\n The return on equity (RoE) for the stock stood at 10.51 per cent while the Return on Capital Employed (RoCE) was at 9.56. RoCE is a financial ratio that determines a company's profitability and the efficiency of capital use, while the RoE is a measure of profitability of a business in relation to the equit\",\n          \"AgenciesPromoters held 34.64 per cent stake in the company as of 31-Mar-2022, while FIIs owned 28.85 per cent, DIIs 19.22 per cent.RelatedBuy Hindalco Industries, target price Rs 515:  JM Financial Buy TVS Motor Company, target price Rs 855:  Yes Securities Buy Indian Hotels Company, target price Rs 253:  Yes Securities Centrum Broking has buy call on Hindalco Industries with a target price of Rs 473. The current market price of Hindalco Industries Ltd. is Rs 320. Time period given by analyst is one year when Hindalco Industries Ltd. price can reach defined target.\\n\\n Hindalco Industries Ltd., incorporated in the year 1958, is a Large Cap company (having a market cap of Rs 71370.21 Crore) operating in Metals - Non Ferrous sector. \\n\\n Hindalco Industries Ltd. key Products/Revenue Segments include Copper/Copper Products, Aluminium, Other Operating Revenue, Sale of services for the year ending 31-Mar-2021. \\nETMarkets Smart Talk: India\\u00e2\\u20ac\\u2122s investable landscape wider than other EMs despite premium valuations: Piyush Sharma\\n\\n\\n Financials\\n For the quarter ended 31-03-2022, the company has reported a Consolidated Total Income of Rs 56057.00 Crore, up 11.11 % from last quarter Total Income of Rs 50453.00 Crore and up 37.75 % from last year same quarter Total Income of Rs 40696.00 Crore. Company has reported net profit after tax of Rs 3850.00 Crore in latest quarter. \\nMORE STORIES FOR YOU\\u00e2\\u0153\\u2022Buy Hindalco Industries, target price Rs 515:  JM Financial Buy TVS Motor Company, target price Rs 855:  Yes Securities Buy Indian Hotels Company, target price Rs 253:  Yes Securities \\u00c2\\u00ab Back to recommendation storiesI don't want to see these stories becauseThey are not relevant to meThey disrupt the reading flowOthersSUBMIT\\n\\nInvestment RationaleHindalco (HNDL IN)\\u00e2\\u20ac\\u2122s share price has fallen ~50% from its peak of March 2022 with investors having concern on its huge capex plans coinciding with falling aluminum prices and possibilities of earnings hit of Novelis amid recessionary fear in developed economies like US and Europe. The brokerage believe that the stock has factored in pessimism and market failed to single out the companies like HNDL whose earnings are relatively less susceptible to commodity prices and ~60% of EBITDA comes from conversion business which is intact. We believe that fundamentals of aluminum are robust and there should not be any major fall from current price of USD 2,500/t. However, with China increasing exports, global deficit may reduce and accordingly, it cuts average LME aluminium prices to USD 2,600/t in FY23E and USD2,400/t in FY24E, leading to 3%/6% cut in FY23E/FY24E EBITDA. With earnings cut and lower valuation multiple, we reduce our target price to Rs473 (earlier Rs573), valuing Novelis at 6.0x FY24E EV/EBITDA and Indian operations at 4.0x FY24E EV/EBITDA. At CMP, the stock is trading at 4.0x FY24E EV/EBITDA, which is near to a decade low. Reiterate BUY.\\n\\n\\n Promoter/FII Holdings  Promoters held 34.64 per cent stake in the company as of 31-Mar-2022, while FIIs owned 28.85 per cent, DIIs 19.22 per cent.\\n(Disclaimer: Recommendations given in this section or any reports attached herein are authored by an external party. Views expressed are that of the respective authors/entities. These do not represent the views of Economic Times (ET). ET does not guarantee, vouch for, endorse any of its contents and hereby disclaims all warranties, express or implied, relating to the same.  Please consult your financial adviser and seek independent advi\",\n          \"NCLT had last month passed an order reportedly after Almas Global failed to make payments to creditors of a Kolkata-based company under an approved resolution plan.The government has put on hold the sale of Pawan Hans as it is legally examining an NCLT order against Almas Global, which is part of the winning consortium, an official said on Monday. \\\"We will do a legal examination of the NCLT order before proceeding further. Letter of Award has not been issued,\\\" the official said. \\n\\nLast month, the government selected M/s Star9 Mobility Pvt Ltd, a consortium of M/s Big Charter Private Limited, M/s Maharaja Aviation Private Limited and M/s Almas Global Opportunity Fund SPC, as the winning bidder for Pawan Hans. \\n\\nStar9 Mobility had quoted Rs 211.14 crore for Pawan Hans, which was above the Reserve Price of Rs 199.92 crore fixed by the government on the basis of valuation carried out by the transaction adviser and asset valuer. \\n\\nThe National Company Law Tribunal (NCLT) had last month passed an order reportedly after Almas Global failed to make payments to creditors of a Kolkata-based company under an approved resolution plan.\\nWe\"\n        ],\n        \"semantic_type\": \"\",\n        \"description\": \"\"\n      }\n    },\n    {\n      \"column\": \"Final Status\",\n      \"properties\": {\n        \"dtype\": \"category\",\n        \"num_unique_values\": 3,\n        \"samples\": [\n          \"Negative\",\n          \"Positive\",\n          \"Positive \"\n        ],\n        \"semantic_type\": \"\",\n        \"description\": \"\"\n      }\n    }\n  ]\n}"
            }
          },
          "metadata": {},
          "execution_count": 8
        }
      ]
    },
    {
      "cell_type": "code",
      "source": [
        "df.info()"
      ],
      "metadata": {
        "colab": {
          "base_uri": "https://localhost:8080/"
        },
        "id": "Gmsq_9IdWinQ",
        "outputId": "bcbe8653-5794-497e-b068-41d24a7681df"
      },
      "execution_count": 9,
      "outputs": [
        {
          "output_type": "stream",
          "name": "stdout",
          "text": [
            "<class 'pandas.core.frame.DataFrame'>\n",
            "RangeIndex: 400 entries, 0 to 399\n",
            "Data columns (total 5 columns):\n",
            " #   Column          Non-Null Count  Dtype \n",
            "---  ------          --------------  ----- \n",
            " 0   Date_published  400 non-null    object\n",
            " 1   Headline        400 non-null    object\n",
            " 2   Synopsis        399 non-null    object\n",
            " 3   Full_text       400 non-null    object\n",
            " 4   Final Status    400 non-null    object\n",
            "dtypes: object(5)\n",
            "memory usage: 15.8+ KB\n"
          ]
        }
      ]
    },
    {
      "cell_type": "code",
      "source": [
        "df.shape"
      ],
      "metadata": {
        "colab": {
          "base_uri": "https://localhost:8080/"
        },
        "id": "P6rIrIjQWqup",
        "outputId": "ddddfe02-be22-46bb-ac85-0c6ab90f0473"
      },
      "execution_count": 10,
      "outputs": [
        {
          "output_type": "execute_result",
          "data": {
            "text/plain": [
              "(400, 5)"
            ]
          },
          "metadata": {},
          "execution_count": 10
        }
      ]
    },
    {
      "cell_type": "code",
      "source": [
        "df.columns"
      ],
      "metadata": {
        "colab": {
          "base_uri": "https://localhost:8080/"
        },
        "id": "feTFY5ZIWuF2",
        "outputId": "690d72ae-3ccc-4c5c-c70f-2be55e36c5a2"
      },
      "execution_count": 11,
      "outputs": [
        {
          "output_type": "execute_result",
          "data": {
            "text/plain": [
              "Index(['Date_published', 'Headline', 'Synopsis', 'Full_text', 'Final Status'], dtype='object')"
            ]
          },
          "metadata": {},
          "execution_count": 11
        }
      ]
    },
    {
      "cell_type": "markdown",
      "source": [
        "# Get Feature Selection"
      ],
      "metadata": {
        "id": "7mrzutf6XL-o"
      }
    },
    {
      "cell_type": "code",
      "source": [
        "' '.join(str(x) for x in df.iloc[1,2:27])"
      ],
      "metadata": {
        "colab": {
          "base_uri": "https://localhost:8080/",
          "height": 122
        },
        "id": "kjlCWwQbXO6M",
        "outputId": "2e010b9f-e1a0-4fbd-e3cc-207308bbffec"
      },
      "execution_count": 12,
      "outputs": [
        {
          "output_type": "execute_result",
          "data": {
            "text/plain": [
              "'At present, 50% of the bank\\'s retail loans are sourced digitally. Out of this, 97% of the bank\\'s personal loans are disbursed end-to-end digitally while the bulk of the home loan originations is done digitally.  AgenciesThe bank presently has 20 million active users on its mobile app, with plans to reach 30 million customers in a year\\'s time.After overhauling its IT infrastructure to set up digital banking departments internally, public sector lender Bank of Baroda is now targeting at least 65% of retail originations and 35% of MSME loans (value-wise) to be done digitally by the end of the current fiscal year. The bank is also targeting â‚¹50,000 crore of digital lending in the current fiscal year.\\n\\n\"We believe that this year we will disburse loans of over â‚¹50,000 crore through our digital bank this year alone,\" said Akhil Handa, chief digital officer, Bank of Baroda. \"This will be a combination of retail (home, auto, personal) loans and small ticket MSME loans (Mudra loans and small ticket business loans). We have a substantial advantage over peer banks that are getting started with their digital journey.\"\\n\\nHanda added that at least â‚¹35,000 crore-â‚¹40,000 crore will come from lending to the retail sector, while the balance will be contributed by the MSME segment.\\n\\nAt present, 50% of the bank\\'s retail loans are sourced digitally. Out of this, 97% of the bank\\'s personal loans are disbursed end-to-end digitally while the bulk of the home loan originations is done digitally. About 90% of all new retail accounts were done digitally. \"About 65% of retail and 35% of MSME will be digital this year. Our thrust is on the personal loan product and looking at the present run rate that alone will help us reach our lending goal,\" Handa said.\\n\\nThe public sector lender is also aiming to onboard 25% of new retail customers through mobile banking and book 25% of its deposits through this mode.\\n\\nLast year, the bank rolled out a digital lending department that will digitise half of its â‚¹6.4 lakh crore balance sheet, including retail, MSME and agriculture. The bank expects the move toward digitisation would help it bring down the cost of operations by 25%.\\n\\nRecently, the Bank launched \\'bob World\\', its all-new digital banking platform, which is aimed at providing an all-inclusive and seamless virtual banking experience.\\n\\nThe bank presently has 20 million active users on its mobile app, with plans to reach 30 million customers in a year\\'s time. It\\'s aiming that nearly 50% of its non-financial inclusion customers will use this app as a primary interface. \"Our market share of mobile banking application downloads is 11.5% which is twice our market share of retail customer deposits, which is 5.5-6%,\" Handa said.\\n\\n\\n Positive'"
            ],
            "application/vnd.google.colaboratory.intrinsic+json": {
              "type": "string"
            }
          },
          "metadata": {},
          "execution_count": 12
        }
      ]
    },
    {
      "cell_type": "code",
      "source": [
        "df.index"
      ],
      "metadata": {
        "colab": {
          "base_uri": "https://localhost:8080/"
        },
        "id": "_CeVX1bTXYmQ",
        "outputId": "6f137c34-28da-4392-f424-f81fb66a33d2"
      },
      "execution_count": 13,
      "outputs": [
        {
          "output_type": "execute_result",
          "data": {
            "text/plain": [
              "RangeIndex(start=0, stop=400, step=1)"
            ]
          },
          "metadata": {},
          "execution_count": 13
        }
      ]
    },
    {
      "cell_type": "code",
      "source": [
        "len(df.index)"
      ],
      "metadata": {
        "colab": {
          "base_uri": "https://localhost:8080/"
        },
        "id": "6RwR_wjAXdLB",
        "outputId": "582a382f-dd82-4971-b73c-2f8d3a3ee0b6"
      },
      "execution_count": 14,
      "outputs": [
        {
          "output_type": "execute_result",
          "data": {
            "text/plain": [
              "400"
            ]
          },
          "metadata": {},
          "execution_count": 14
        }
      ]
    },
    {
      "cell_type": "code",
      "source": [
        "news = []\n",
        "for row in range(0,len(df.index)):\n",
        "  news.append(' '.join(str(x) for x in df.iloc[1,2:27]))"
      ],
      "metadata": {
        "id": "fIR6iJi1XgbY"
      },
      "execution_count": 15,
      "outputs": []
    },
    {
      "cell_type": "code",
      "source": [
        "type(news)"
      ],
      "metadata": {
        "colab": {
          "base_uri": "https://localhost:8080/"
        },
        "id": "2kT9Y0tXYLfk",
        "outputId": "c304761c-e7ca-4913-8948-0503abf8b7e6"
      },
      "execution_count": 16,
      "outputs": [
        {
          "output_type": "execute_result",
          "data": {
            "text/plain": [
              "list"
            ]
          },
          "metadata": {},
          "execution_count": 16
        }
      ]
    },
    {
      "cell_type": "code",
      "source": [
        "news [8]"
      ],
      "metadata": {
        "colab": {
          "base_uri": "https://localhost:8080/",
          "height": 122
        },
        "id": "ziA4CJ2EYXnt",
        "outputId": "26e3d654-a50d-4d3d-d549-64700cf59d2a"
      },
      "execution_count": 17,
      "outputs": [
        {
          "output_type": "execute_result",
          "data": {
            "text/plain": [
              "'At present, 50% of the bank\\'s retail loans are sourced digitally. Out of this, 97% of the bank\\'s personal loans are disbursed end-to-end digitally while the bulk of the home loan originations is done digitally.  AgenciesThe bank presently has 20 million active users on its mobile app, with plans to reach 30 million customers in a year\\'s time.After overhauling its IT infrastructure to set up digital banking departments internally, public sector lender Bank of Baroda is now targeting at least 65% of retail originations and 35% of MSME loans (value-wise) to be done digitally by the end of the current fiscal year. The bank is also targeting â‚¹50,000 crore of digital lending in the current fiscal year.\\n\\n\"We believe that this year we will disburse loans of over â‚¹50,000 crore through our digital bank this year alone,\" said Akhil Handa, chief digital officer, Bank of Baroda. \"This will be a combination of retail (home, auto, personal) loans and small ticket MSME loans (Mudra loans and small ticket business loans). We have a substantial advantage over peer banks that are getting started with their digital journey.\"\\n\\nHanda added that at least â‚¹35,000 crore-â‚¹40,000 crore will come from lending to the retail sector, while the balance will be contributed by the MSME segment.\\n\\nAt present, 50% of the bank\\'s retail loans are sourced digitally. Out of this, 97% of the bank\\'s personal loans are disbursed end-to-end digitally while the bulk of the home loan originations is done digitally. About 90% of all new retail accounts were done digitally. \"About 65% of retail and 35% of MSME will be digital this year. Our thrust is on the personal loan product and looking at the present run rate that alone will help us reach our lending goal,\" Handa said.\\n\\nThe public sector lender is also aiming to onboard 25% of new retail customers through mobile banking and book 25% of its deposits through this mode.\\n\\nLast year, the bank rolled out a digital lending department that will digitise half of its â‚¹6.4 lakh crore balance sheet, including retail, MSME and agriculture. The bank expects the move toward digitisation would help it bring down the cost of operations by 25%.\\n\\nRecently, the Bank launched \\'bob World\\', its all-new digital banking platform, which is aimed at providing an all-inclusive and seamless virtual banking experience.\\n\\nThe bank presently has 20 million active users on its mobile app, with plans to reach 30 million customers in a year\\'s time. It\\'s aiming that nearly 50% of its non-financial inclusion customers will use this app as a primary interface. \"Our market share of mobile banking application downloads is 11.5% which is twice our market share of retail customer deposits, which is 5.5-6%,\" Handa said.\\n\\n\\n Positive'"
            ],
            "application/vnd.google.colaboratory.intrinsic+json": {
              "type": "string"
            }
          },
          "metadata": {},
          "execution_count": 17
        }
      ]
    },
    {
      "cell_type": "code",
      "source": [
        "X = news"
      ],
      "metadata": {
        "id": "MoCTZJ43YaUV"
      },
      "execution_count": 18,
      "outputs": []
    },
    {
      "cell_type": "code",
      "source": [
        "type(X)"
      ],
      "metadata": {
        "colab": {
          "base_uri": "https://localhost:8080/"
        },
        "id": "h7Y1KXAlYdP5",
        "outputId": "60fd44da-268d-4069-e99c-475a67651c76"
      },
      "execution_count": 19,
      "outputs": [
        {
          "output_type": "execute_result",
          "data": {
            "text/plain": [
              "list"
            ]
          },
          "metadata": {},
          "execution_count": 19
        }
      ]
    },
    {
      "cell_type": "markdown",
      "source": [
        "# Get Feature Text Conversion to Bag of Words"
      ],
      "metadata": {
        "id": "OLiOquV5Yu6j"
      }
    },
    {
      "cell_type": "code",
      "source": [
        "from sklearn.feature_extraction.text import CountVectorizer"
      ],
      "metadata": {
        "id": "BW2akC-7Y6V1"
      },
      "execution_count": 20,
      "outputs": []
    },
    {
      "cell_type": "code",
      "source": [
        "cv = CountVectorizer(lowercase = True, ngram_range=(1,1))"
      ],
      "metadata": {
        "id": "5mnwO4UeY854"
      },
      "execution_count": 21,
      "outputs": []
    },
    {
      "cell_type": "code",
      "source": [
        "X = cv.fit_transform(X)"
      ],
      "metadata": {
        "id": "_2kkbiLBZOpM"
      },
      "execution_count": 22,
      "outputs": []
    },
    {
      "cell_type": "code",
      "source": [
        "X.shape"
      ],
      "metadata": {
        "colab": {
          "base_uri": "https://localhost:8080/"
        },
        "id": "xD1dtPq1ZnOk",
        "outputId": "647704b9-11f2-40db-c4a7-a9f9a7c30472"
      },
      "execution_count": 23,
      "outputs": [
        {
          "output_type": "execute_result",
          "data": {
            "text/plain": [
              "(400, 181)"
            ]
          },
          "metadata": {},
          "execution_count": 23
        }
      ]
    },
    {
      "cell_type": "code",
      "source": [
        "y = df['Headline']"
      ],
      "metadata": {
        "id": "edP0ceZEZpY5"
      },
      "execution_count": 24,
      "outputs": []
    },
    {
      "cell_type": "code",
      "source": [
        "y.shape"
      ],
      "metadata": {
        "colab": {
          "base_uri": "https://localhost:8080/"
        },
        "id": "iteeo-8DZs1b",
        "outputId": "e97bae99-2bd7-47ab-e336-e53a32283399"
      },
      "execution_count": 25,
      "outputs": [
        {
          "output_type": "execute_result",
          "data": {
            "text/plain": [
              "(400,)"
            ]
          },
          "metadata": {},
          "execution_count": 25
        }
      ]
    },
    {
      "cell_type": "markdown",
      "source": [
        "# Get Train Test Split"
      ],
      "metadata": {
        "id": "eSiVXHJVbXYG"
      }
    },
    {
      "cell_type": "code",
      "source": [
        "from sklearn.model_selection import train_test_split"
      ],
      "metadata": {
        "id": "OeS1DuLObibt"
      },
      "execution_count": 26,
      "outputs": []
    },
    {
      "cell_type": "code",
      "source": [
        "X_train, X_test, y_train, y_test = train_test_split (X, y, test_size = 0.3, random_state = 2529)"
      ],
      "metadata": {
        "id": "dG7QIYIjGO_l"
      },
      "execution_count": 35,
      "outputs": []
    },
    {
      "cell_type": "code",
      "source": [
        "from sklearn.ensemble import RandomForestClassifier"
      ],
      "metadata": {
        "id": "5zcBqXdGHQz0"
      },
      "execution_count": 36,
      "outputs": []
    },
    {
      "cell_type": "code",
      "source": [
        "rf = RandomForestClassifier(n_estimators=200)"
      ],
      "metadata": {
        "id": "vSRYTKZKHV3u"
      },
      "execution_count": 39,
      "outputs": []
    },
    {
      "cell_type": "code",
      "source": [
        "rf.fit(X_train, y_train)"
      ],
      "metadata": {
        "colab": {
          "base_uri": "https://localhost:8080/",
          "height": 80
        },
        "id": "U72isetjHXcb",
        "outputId": "3d81ee5b-6515-4afe-ce1f-6f57b186db8e"
      },
      "execution_count": 40,
      "outputs": [
        {
          "output_type": "execute_result",
          "data": {
            "text/plain": [
              "RandomForestClassifier(n_estimators=200)"
            ],
            "text/html": [
              "<style>#sk-container-id-1 {\n",
              "  /* Definition of color scheme common for light and dark mode */\n",
              "  --sklearn-color-text: black;\n",
              "  --sklearn-color-line: gray;\n",
              "  /* Definition of color scheme for unfitted estimators */\n",
              "  --sklearn-color-unfitted-level-0: #fff5e6;\n",
              "  --sklearn-color-unfitted-level-1: #f6e4d2;\n",
              "  --sklearn-color-unfitted-level-2: #ffe0b3;\n",
              "  --sklearn-color-unfitted-level-3: chocolate;\n",
              "  /* Definition of color scheme for fitted estimators */\n",
              "  --sklearn-color-fitted-level-0: #f0f8ff;\n",
              "  --sklearn-color-fitted-level-1: #d4ebff;\n",
              "  --sklearn-color-fitted-level-2: #b3dbfd;\n",
              "  --sklearn-color-fitted-level-3: cornflowerblue;\n",
              "\n",
              "  /* Specific color for light theme */\n",
              "  --sklearn-color-text-on-default-background: var(--sg-text-color, var(--theme-code-foreground, var(--jp-content-font-color1, black)));\n",
              "  --sklearn-color-background: var(--sg-background-color, var(--theme-background, var(--jp-layout-color0, white)));\n",
              "  --sklearn-color-border-box: var(--sg-text-color, var(--theme-code-foreground, var(--jp-content-font-color1, black)));\n",
              "  --sklearn-color-icon: #696969;\n",
              "\n",
              "  @media (prefers-color-scheme: dark) {\n",
              "    /* Redefinition of color scheme for dark theme */\n",
              "    --sklearn-color-text-on-default-background: var(--sg-text-color, var(--theme-code-foreground, var(--jp-content-font-color1, white)));\n",
              "    --sklearn-color-background: var(--sg-background-color, var(--theme-background, var(--jp-layout-color0, #111)));\n",
              "    --sklearn-color-border-box: var(--sg-text-color, var(--theme-code-foreground, var(--jp-content-font-color1, white)));\n",
              "    --sklearn-color-icon: #878787;\n",
              "  }\n",
              "}\n",
              "\n",
              "#sk-container-id-1 {\n",
              "  color: var(--sklearn-color-text);\n",
              "}\n",
              "\n",
              "#sk-container-id-1 pre {\n",
              "  padding: 0;\n",
              "}\n",
              "\n",
              "#sk-container-id-1 input.sk-hidden--visually {\n",
              "  border: 0;\n",
              "  clip: rect(1px 1px 1px 1px);\n",
              "  clip: rect(1px, 1px, 1px, 1px);\n",
              "  height: 1px;\n",
              "  margin: -1px;\n",
              "  overflow: hidden;\n",
              "  padding: 0;\n",
              "  position: absolute;\n",
              "  width: 1px;\n",
              "}\n",
              "\n",
              "#sk-container-id-1 div.sk-dashed-wrapped {\n",
              "  border: 1px dashed var(--sklearn-color-line);\n",
              "  margin: 0 0.4em 0.5em 0.4em;\n",
              "  box-sizing: border-box;\n",
              "  padding-bottom: 0.4em;\n",
              "  background-color: var(--sklearn-color-background);\n",
              "}\n",
              "\n",
              "#sk-container-id-1 div.sk-container {\n",
              "  /* jupyter's `normalize.less` sets `[hidden] { display: none; }`\n",
              "     but bootstrap.min.css set `[hidden] { display: none !important; }`\n",
              "     so we also need the `!important` here to be able to override the\n",
              "     default hidden behavior on the sphinx rendered scikit-learn.org.\n",
              "     See: https://github.com/scikit-learn/scikit-learn/issues/21755 */\n",
              "  display: inline-block !important;\n",
              "  position: relative;\n",
              "}\n",
              "\n",
              "#sk-container-id-1 div.sk-text-repr-fallback {\n",
              "  display: none;\n",
              "}\n",
              "\n",
              "div.sk-parallel-item,\n",
              "div.sk-serial,\n",
              "div.sk-item {\n",
              "  /* draw centered vertical line to link estimators */\n",
              "  background-image: linear-gradient(var(--sklearn-color-text-on-default-background), var(--sklearn-color-text-on-default-background));\n",
              "  background-size: 2px 100%;\n",
              "  background-repeat: no-repeat;\n",
              "  background-position: center center;\n",
              "}\n",
              "\n",
              "/* Parallel-specific style estimator block */\n",
              "\n",
              "#sk-container-id-1 div.sk-parallel-item::after {\n",
              "  content: \"\";\n",
              "  width: 100%;\n",
              "  border-bottom: 2px solid var(--sklearn-color-text-on-default-background);\n",
              "  flex-grow: 1;\n",
              "}\n",
              "\n",
              "#sk-container-id-1 div.sk-parallel {\n",
              "  display: flex;\n",
              "  align-items: stretch;\n",
              "  justify-content: center;\n",
              "  background-color: var(--sklearn-color-background);\n",
              "  position: relative;\n",
              "}\n",
              "\n",
              "#sk-container-id-1 div.sk-parallel-item {\n",
              "  display: flex;\n",
              "  flex-direction: column;\n",
              "}\n",
              "\n",
              "#sk-container-id-1 div.sk-parallel-item:first-child::after {\n",
              "  align-self: flex-end;\n",
              "  width: 50%;\n",
              "}\n",
              "\n",
              "#sk-container-id-1 div.sk-parallel-item:last-child::after {\n",
              "  align-self: flex-start;\n",
              "  width: 50%;\n",
              "}\n",
              "\n",
              "#sk-container-id-1 div.sk-parallel-item:only-child::after {\n",
              "  width: 0;\n",
              "}\n",
              "\n",
              "/* Serial-specific style estimator block */\n",
              "\n",
              "#sk-container-id-1 div.sk-serial {\n",
              "  display: flex;\n",
              "  flex-direction: column;\n",
              "  align-items: center;\n",
              "  background-color: var(--sklearn-color-background);\n",
              "  padding-right: 1em;\n",
              "  padding-left: 1em;\n",
              "}\n",
              "\n",
              "\n",
              "/* Toggleable style: style used for estimator/Pipeline/ColumnTransformer box that is\n",
              "clickable and can be expanded/collapsed.\n",
              "- Pipeline and ColumnTransformer use this feature and define the default style\n",
              "- Estimators will overwrite some part of the style using the `sk-estimator` class\n",
              "*/\n",
              "\n",
              "/* Pipeline and ColumnTransformer style (default) */\n",
              "\n",
              "#sk-container-id-1 div.sk-toggleable {\n",
              "  /* Default theme specific background. It is overwritten whether we have a\n",
              "  specific estimator or a Pipeline/ColumnTransformer */\n",
              "  background-color: var(--sklearn-color-background);\n",
              "}\n",
              "\n",
              "/* Toggleable label */\n",
              "#sk-container-id-1 label.sk-toggleable__label {\n",
              "  cursor: pointer;\n",
              "  display: block;\n",
              "  width: 100%;\n",
              "  margin-bottom: 0;\n",
              "  padding: 0.5em;\n",
              "  box-sizing: border-box;\n",
              "  text-align: center;\n",
              "}\n",
              "\n",
              "#sk-container-id-1 label.sk-toggleable__label-arrow:before {\n",
              "  /* Arrow on the left of the label */\n",
              "  content: \"▸\";\n",
              "  float: left;\n",
              "  margin-right: 0.25em;\n",
              "  color: var(--sklearn-color-icon);\n",
              "}\n",
              "\n",
              "#sk-container-id-1 label.sk-toggleable__label-arrow:hover:before {\n",
              "  color: var(--sklearn-color-text);\n",
              "}\n",
              "\n",
              "/* Toggleable content - dropdown */\n",
              "\n",
              "#sk-container-id-1 div.sk-toggleable__content {\n",
              "  max-height: 0;\n",
              "  max-width: 0;\n",
              "  overflow: hidden;\n",
              "  text-align: left;\n",
              "  /* unfitted */\n",
              "  background-color: var(--sklearn-color-unfitted-level-0);\n",
              "}\n",
              "\n",
              "#sk-container-id-1 div.sk-toggleable__content.fitted {\n",
              "  /* fitted */\n",
              "  background-color: var(--sklearn-color-fitted-level-0);\n",
              "}\n",
              "\n",
              "#sk-container-id-1 div.sk-toggleable__content pre {\n",
              "  margin: 0.2em;\n",
              "  border-radius: 0.25em;\n",
              "  color: var(--sklearn-color-text);\n",
              "  /* unfitted */\n",
              "  background-color: var(--sklearn-color-unfitted-level-0);\n",
              "}\n",
              "\n",
              "#sk-container-id-1 div.sk-toggleable__content.fitted pre {\n",
              "  /* unfitted */\n",
              "  background-color: var(--sklearn-color-fitted-level-0);\n",
              "}\n",
              "\n",
              "#sk-container-id-1 input.sk-toggleable__control:checked~div.sk-toggleable__content {\n",
              "  /* Expand drop-down */\n",
              "  max-height: 200px;\n",
              "  max-width: 100%;\n",
              "  overflow: auto;\n",
              "}\n",
              "\n",
              "#sk-container-id-1 input.sk-toggleable__control:checked~label.sk-toggleable__label-arrow:before {\n",
              "  content: \"▾\";\n",
              "}\n",
              "\n",
              "/* Pipeline/ColumnTransformer-specific style */\n",
              "\n",
              "#sk-container-id-1 div.sk-label input.sk-toggleable__control:checked~label.sk-toggleable__label {\n",
              "  color: var(--sklearn-color-text);\n",
              "  background-color: var(--sklearn-color-unfitted-level-2);\n",
              "}\n",
              "\n",
              "#sk-container-id-1 div.sk-label.fitted input.sk-toggleable__control:checked~label.sk-toggleable__label {\n",
              "  background-color: var(--sklearn-color-fitted-level-2);\n",
              "}\n",
              "\n",
              "/* Estimator-specific style */\n",
              "\n",
              "/* Colorize estimator box */\n",
              "#sk-container-id-1 div.sk-estimator input.sk-toggleable__control:checked~label.sk-toggleable__label {\n",
              "  /* unfitted */\n",
              "  background-color: var(--sklearn-color-unfitted-level-2);\n",
              "}\n",
              "\n",
              "#sk-container-id-1 div.sk-estimator.fitted input.sk-toggleable__control:checked~label.sk-toggleable__label {\n",
              "  /* fitted */\n",
              "  background-color: var(--sklearn-color-fitted-level-2);\n",
              "}\n",
              "\n",
              "#sk-container-id-1 div.sk-label label.sk-toggleable__label,\n",
              "#sk-container-id-1 div.sk-label label {\n",
              "  /* The background is the default theme color */\n",
              "  color: var(--sklearn-color-text-on-default-background);\n",
              "}\n",
              "\n",
              "/* On hover, darken the color of the background */\n",
              "#sk-container-id-1 div.sk-label:hover label.sk-toggleable__label {\n",
              "  color: var(--sklearn-color-text);\n",
              "  background-color: var(--sklearn-color-unfitted-level-2);\n",
              "}\n",
              "\n",
              "/* Label box, darken color on hover, fitted */\n",
              "#sk-container-id-1 div.sk-label.fitted:hover label.sk-toggleable__label.fitted {\n",
              "  color: var(--sklearn-color-text);\n",
              "  background-color: var(--sklearn-color-fitted-level-2);\n",
              "}\n",
              "\n",
              "/* Estimator label */\n",
              "\n",
              "#sk-container-id-1 div.sk-label label {\n",
              "  font-family: monospace;\n",
              "  font-weight: bold;\n",
              "  display: inline-block;\n",
              "  line-height: 1.2em;\n",
              "}\n",
              "\n",
              "#sk-container-id-1 div.sk-label-container {\n",
              "  text-align: center;\n",
              "}\n",
              "\n",
              "/* Estimator-specific */\n",
              "#sk-container-id-1 div.sk-estimator {\n",
              "  font-family: monospace;\n",
              "  border: 1px dotted var(--sklearn-color-border-box);\n",
              "  border-radius: 0.25em;\n",
              "  box-sizing: border-box;\n",
              "  margin-bottom: 0.5em;\n",
              "  /* unfitted */\n",
              "  background-color: var(--sklearn-color-unfitted-level-0);\n",
              "}\n",
              "\n",
              "#sk-container-id-1 div.sk-estimator.fitted {\n",
              "  /* fitted */\n",
              "  background-color: var(--sklearn-color-fitted-level-0);\n",
              "}\n",
              "\n",
              "/* on hover */\n",
              "#sk-container-id-1 div.sk-estimator:hover {\n",
              "  /* unfitted */\n",
              "  background-color: var(--sklearn-color-unfitted-level-2);\n",
              "}\n",
              "\n",
              "#sk-container-id-1 div.sk-estimator.fitted:hover {\n",
              "  /* fitted */\n",
              "  background-color: var(--sklearn-color-fitted-level-2);\n",
              "}\n",
              "\n",
              "/* Specification for estimator info (e.g. \"i\" and \"?\") */\n",
              "\n",
              "/* Common style for \"i\" and \"?\" */\n",
              "\n",
              ".sk-estimator-doc-link,\n",
              "a:link.sk-estimator-doc-link,\n",
              "a:visited.sk-estimator-doc-link {\n",
              "  float: right;\n",
              "  font-size: smaller;\n",
              "  line-height: 1em;\n",
              "  font-family: monospace;\n",
              "  background-color: var(--sklearn-color-background);\n",
              "  border-radius: 1em;\n",
              "  height: 1em;\n",
              "  width: 1em;\n",
              "  text-decoration: none !important;\n",
              "  margin-left: 1ex;\n",
              "  /* unfitted */\n",
              "  border: var(--sklearn-color-unfitted-level-1) 1pt solid;\n",
              "  color: var(--sklearn-color-unfitted-level-1);\n",
              "}\n",
              "\n",
              ".sk-estimator-doc-link.fitted,\n",
              "a:link.sk-estimator-doc-link.fitted,\n",
              "a:visited.sk-estimator-doc-link.fitted {\n",
              "  /* fitted */\n",
              "  border: var(--sklearn-color-fitted-level-1) 1pt solid;\n",
              "  color: var(--sklearn-color-fitted-level-1);\n",
              "}\n",
              "\n",
              "/* On hover */\n",
              "div.sk-estimator:hover .sk-estimator-doc-link:hover,\n",
              ".sk-estimator-doc-link:hover,\n",
              "div.sk-label-container:hover .sk-estimator-doc-link:hover,\n",
              ".sk-estimator-doc-link:hover {\n",
              "  /* unfitted */\n",
              "  background-color: var(--sklearn-color-unfitted-level-3);\n",
              "  color: var(--sklearn-color-background);\n",
              "  text-decoration: none;\n",
              "}\n",
              "\n",
              "div.sk-estimator.fitted:hover .sk-estimator-doc-link.fitted:hover,\n",
              ".sk-estimator-doc-link.fitted:hover,\n",
              "div.sk-label-container:hover .sk-estimator-doc-link.fitted:hover,\n",
              ".sk-estimator-doc-link.fitted:hover {\n",
              "  /* fitted */\n",
              "  background-color: var(--sklearn-color-fitted-level-3);\n",
              "  color: var(--sklearn-color-background);\n",
              "  text-decoration: none;\n",
              "}\n",
              "\n",
              "/* Span, style for the box shown on hovering the info icon */\n",
              ".sk-estimator-doc-link span {\n",
              "  display: none;\n",
              "  z-index: 9999;\n",
              "  position: relative;\n",
              "  font-weight: normal;\n",
              "  right: .2ex;\n",
              "  padding: .5ex;\n",
              "  margin: .5ex;\n",
              "  width: min-content;\n",
              "  min-width: 20ex;\n",
              "  max-width: 50ex;\n",
              "  color: var(--sklearn-color-text);\n",
              "  box-shadow: 2pt 2pt 4pt #999;\n",
              "  /* unfitted */\n",
              "  background: var(--sklearn-color-unfitted-level-0);\n",
              "  border: .5pt solid var(--sklearn-color-unfitted-level-3);\n",
              "}\n",
              "\n",
              ".sk-estimator-doc-link.fitted span {\n",
              "  /* fitted */\n",
              "  background: var(--sklearn-color-fitted-level-0);\n",
              "  border: var(--sklearn-color-fitted-level-3);\n",
              "}\n",
              "\n",
              ".sk-estimator-doc-link:hover span {\n",
              "  display: block;\n",
              "}\n",
              "\n",
              "/* \"?\"-specific style due to the `<a>` HTML tag */\n",
              "\n",
              "#sk-container-id-1 a.estimator_doc_link {\n",
              "  float: right;\n",
              "  font-size: 1rem;\n",
              "  line-height: 1em;\n",
              "  font-family: monospace;\n",
              "  background-color: var(--sklearn-color-background);\n",
              "  border-radius: 1rem;\n",
              "  height: 1rem;\n",
              "  width: 1rem;\n",
              "  text-decoration: none;\n",
              "  /* unfitted */\n",
              "  color: var(--sklearn-color-unfitted-level-1);\n",
              "  border: var(--sklearn-color-unfitted-level-1) 1pt solid;\n",
              "}\n",
              "\n",
              "#sk-container-id-1 a.estimator_doc_link.fitted {\n",
              "  /* fitted */\n",
              "  border: var(--sklearn-color-fitted-level-1) 1pt solid;\n",
              "  color: var(--sklearn-color-fitted-level-1);\n",
              "}\n",
              "\n",
              "/* On hover */\n",
              "#sk-container-id-1 a.estimator_doc_link:hover {\n",
              "  /* unfitted */\n",
              "  background-color: var(--sklearn-color-unfitted-level-3);\n",
              "  color: var(--sklearn-color-background);\n",
              "  text-decoration: none;\n",
              "}\n",
              "\n",
              "#sk-container-id-1 a.estimator_doc_link.fitted:hover {\n",
              "  /* fitted */\n",
              "  background-color: var(--sklearn-color-fitted-level-3);\n",
              "}\n",
              "</style><div id=\"sk-container-id-1\" class=\"sk-top-container\"><div class=\"sk-text-repr-fallback\"><pre>RandomForestClassifier(n_estimators=200)</pre><b>In a Jupyter environment, please rerun this cell to show the HTML representation or trust the notebook. <br />On GitHub, the HTML representation is unable to render, please try loading this page with nbviewer.org.</b></div><div class=\"sk-container\" hidden><div class=\"sk-item\"><div class=\"sk-estimator fitted sk-toggleable\"><input class=\"sk-toggleable__control sk-hidden--visually\" id=\"sk-estimator-id-1\" type=\"checkbox\" checked><label for=\"sk-estimator-id-1\" class=\"sk-toggleable__label fitted sk-toggleable__label-arrow fitted\">&nbsp;&nbsp;RandomForestClassifier<a class=\"sk-estimator-doc-link fitted\" rel=\"noreferrer\" target=\"_blank\" href=\"https://scikit-learn.org/1.5/modules/generated/sklearn.ensemble.RandomForestClassifier.html\">?<span>Documentation for RandomForestClassifier</span></a><span class=\"sk-estimator-doc-link fitted\">i<span>Fitted</span></span></label><div class=\"sk-toggleable__content fitted\"><pre>RandomForestClassifier(n_estimators=200)</pre></div> </div></div></div></div>"
            ]
          },
          "metadata": {},
          "execution_count": 40
        }
      ]
    },
    {
      "cell_type": "code",
      "source": [
        "y_pred = rf.predict(X_test)"
      ],
      "metadata": {
        "id": "GW0lNMNgHjCG"
      },
      "execution_count": 41,
      "outputs": []
    },
    {
      "cell_type": "code",
      "source": [
        "from sklearn.metrics import classification_report,confusion_matrix,accuracy_score"
      ],
      "metadata": {
        "id": "kYtWoSHlHpZz"
      },
      "execution_count": 42,
      "outputs": []
    },
    {
      "cell_type": "code",
      "source": [
        "confusion_matrix(y_test, y_pred)"
      ],
      "metadata": {
        "colab": {
          "base_uri": "https://localhost:8080/"
        },
        "id": "n1tRrrV_ICbE",
        "outputId": "2974dd4d-bd3f-4686-a120-899ab76479fe"
      },
      "execution_count": 43,
      "outputs": [
        {
          "output_type": "execute_result",
          "data": {
            "text/plain": [
              "array([[0, 0, 0, ..., 0, 0, 0],\n",
              "       [0, 0, 0, ..., 0, 0, 0],\n",
              "       [0, 0, 0, ..., 0, 0, 0],\n",
              "       ...,\n",
              "       [0, 0, 0, ..., 0, 0, 0],\n",
              "       [0, 0, 0, ..., 0, 0, 0],\n",
              "       [0, 0, 0, ..., 0, 0, 0]])"
            ]
          },
          "metadata": {},
          "execution_count": 43
        }
      ]
    },
    {
      "cell_type": "code",
      "source": [
        "print(classification_report(y_test, y_pred))"
      ],
      "metadata": {
        "colab": {
          "base_uri": "https://localhost:8080/"
        },
        "id": "VsXMNEkEIGNY",
        "outputId": "2a10cb79-11f4-4319-9b69-f92cbf57f372"
      },
      "execution_count": 44,
      "outputs": [
        {
          "output_type": "stream",
          "name": "stdout",
          "text": [
            "                                                                                                     precision    recall  f1-score   support\n",
            "\n",
            "                                 3 devils that can make life tough for Nifty bulls in next 6 months       0.00      0.00      0.00         1\n",
            "                                              853 FDI proposals disposed of in 5 years through FIFP       0.00      0.00      0.00         1\n",
            "                                          About 29% Indian households downgraded edible oil: Report       0.00      0.00      0.00         1\n",
            "                                       Adani Ent. stock price  up  0.34 per cent as Sensex  slides        0.00      0.00      0.00         1\n",
            "                                                  Adani Green shares  drop  1.58% as Sensex  rises        0.00      0.00      0.00         1\n",
            "                                             Adani Transmission  declines  1.35% as Sensex  slides        0.00      0.00      0.00         1\n",
            "                                               Ambuja Cements shares  drop  1.97% as Sensex  falls        0.00      0.00      0.00         1\n",
            "                       Asian stocks buoyed by Wall Street gains as easing oil cools inflation fears       0.00      0.00      0.00         1\n",
            "                                          Auto stocks that analysts prefer ahead of June sales data       0.00      0.00      0.00         1\n",
            "                                             Avenue Supermart shares  drop  0.88% as Sensex  rises        0.00      0.00      0.00         1\n",
            "                                              Banks holding on to subsidy share, say payments firms       0.00      0.00      0.00         1\n",
            "                                                 Berger Paints shares  down  0.72% as Nifty  drops        0.00      0.00      0.00         1\n",
            "                                                    Berger Paints shares  up  0.6% as Nifty  drops        0.00      0.00      0.00         1\n",
            "               Berkshire Hathaway buys 9.6 million more Occidental shares, raises stake to over 16%       0.00      0.00      0.00         1\n",
            "                                                      Bharat Forge  rises  0.99% as Sensex  climbs        0.00      0.00      0.00         1\n",
            "              Big Movers on D-St: What should investors do with Bajaj Auto, HAL and Happiest Minds?       0.00      0.00      0.00         1\n",
            "                                                 Big NBFCs to decide their own future: RBI Governor       0.00      0.00      0.00         1\n",
            "                                        Bosch Q4 Results: Net profit declines 27% to Rs 350.5 crore       0.00      0.00      0.00         1\n",
            "                                                  Buy ACC, target price Rs 2615:  ICICI Securities        0.00      0.00      0.00         1\n",
            "                                    Buy Hindalco Industries, target price Rs 473:  Centrum Broking        0.00      0.00      0.00         1\n",
            "                                                  Buy PVR, target price Rs 1965:  ICICI Securities        0.00      0.00      0.00         1\n",
            "                                         Buy Phoenix Mills, target price Rs 1364:  HDFC Securities        0.00      0.00      0.00         1\n",
            "                                      Buy Suven Pharmaceuticals, target price Rs 627:  Anand Rathi        0.00      0.00      0.00         1\n",
            "                                     Can life insurers offer health plans? Irdai set to take a call       0.00      0.00      0.00         1\n",
            "                                           CarTrade Tech tanks 10% after company reports loss in Q4       0.00      0.00      0.00         1\n",
            "                     Centre to step on the gas to meet Rs 1.62 lakh crore asset monetisation target       0.00      0.00      0.00         1\n",
            "                          Co-operative Banks permitted more activities on par with commercial banks       0.00      0.00      0.00         1\n",
            "                                             Colgate-Palmolive shares  fall  0.52% as Nifty  drops        0.00      0.00      0.00         1\n",
            "                                   Corporate Radar: Paytm, IRFC Q4 results; Trent's dividend & more       0.00      0.00      0.00         1\n",
            "                                                          DLF shares  drop  3.08% as Sensex  falls        0.00      0.00      0.00         1\n",
            "                                                              DLF shares  up  1.7% as Nifty  drops        0.00      0.00      0.00         1\n",
            "                         Depositors of Lucknow cooperative bank to get money from DICGC on April 27       0.00      0.00      0.00         1\n",
            "                              Didi sets shareholder meeting on May 23 to vote on US delisting plans       0.00      0.00      0.00         1\n",
            "                                         Digitally ready Bank of Baroda aims to click on more loans       0.00      0.00      0.00         1\n",
            "                             Down 55% from recent high, can this Jhunjhunwala stock stage recovery?       0.00      0.00      0.00         1\n",
            "                         Eco recovery, improving business confidence to help banks in FY23: Moody's       0.00      0.00      0.00         1\n",
            "                                                   European shares steady at the end of brutal week       0.00      0.00      0.00         1\n",
            "                                 Export levy, domestic surfeit can dent bottom lines of steelmakers       0.00      0.00      0.00         1\n",
            "                  Follow the dharma of asset allocation to survive an uncertain market: Nilesh Shah       0.00      0.00      0.00         1\n",
            "                                                            GAIL shares  up  0.98% as Nifty  drops        0.00      0.00      0.00         1\n",
            "                                               GHCL zooms 9% on blockbuster Q4 earnings performance       0.00      0.00      0.00         1\n",
            " Govt giving additional fertiliser subsidy of Rs 1.10 lakh crore this fiscal: FM Nirmala Sitharaman       0.00      0.00      0.00         1\n",
            "                Govt puts Pawan Hans sale on hold over NCLT order against winning consortium member       0.00      0.00      0.00         1\n",
            "                                  HDFC Bank Analyst Day: Investor concerns addressed; execution key       0.00      0.00      0.00         1\n",
            "                                         HDFC Cap, L&T arm in talks for Rs 4,000 cr realty platform       0.00      0.00      0.00         1\n",
            "                                  Havells India stock price  down  0.68 per cent as Sensex  slides        0.00      0.00      0.00         1\n",
            "                        ITC Q4 Preview: Cigarette, hotels, agri biz to drive up to 23% sales growth       0.00      0.00      0.00         1\n",
            "                                        India slams WTO response to Covid, sticks to fishery stance       0.00      0.00      0.00         1\n",
            "                                           India's March WPI inflation accelerates to record 14.55%       0.00      0.00      0.00         1\n",
            "                                    Irdai weighs proposal to privatise Insurance Information Bureau       0.00      0.00      0.00         1\n",
            "                                          It's time to raise policy rates rather than change stance       0.00      0.00      0.00         1\n",
            "                       Japan's Nikkei gains for third day on China optimism; subdued earnings weigh       0.00      0.00      0.00         1\n",
            "         Karnataka attracted investment commitment of Rs 65,000 crore at WEF meet: Basavaraj Bommai       0.00      0.00      0.00         1\n",
            "                                                     Kharif sowing picks up, next fortnight crucial       0.00      0.00      0.00         1\n",
            "                                                        LIC policy sales grow to 2.17 crore in FY22       0.00      0.00      0.00         1\n",
            "                                                             Lupin share price  down  1.47 per cent       0.00      0.00      0.00         1\n",
            "                                                 Max Financial shares  rise  0.33% as Nifty  drops        0.00      0.00      0.00         1\n",
            "           Mutual funds witness record surges in two years as pandemic instils financial discipline       0.00      0.00      0.00         1\n",
            "                                        New investment, manufacturing jumped in FY22: Goldman Sachs       0.00      0.00      0.00         1\n",
            "                                             Output of eight core industries surges to 18.1% in May       0.00      0.00      0.00         1\n",
            "                                          PSB Privatisation Bill may allow government complete exit       0.00      0.00      0.00         1\n",
            "                                                 Petronet LNG shares  gain  1.26% as Sensex  falls        0.00      0.00      0.00         1\n",
            "                                                    Petronet LNG shares  up  0.79% as Nifty  drops        0.00      0.00      0.00         1\n",
            "                                                               Put your money where your dreams are       0.00      0.00      0.00         1\n",
            "                           Reliance shares hits fresh record high as Morgan Stanley sees 20% upside       0.00      0.00      0.00         1\n",
            "                 Revenue sharing contract terms eased for discovered small fields to lure investors       0.00      0.00      0.00         1\n",
            "                                        Route Mobile soars 11% as company board mulls share buyback       0.00      0.00      0.00         1\n",
            "                  SGX Nifty down 140 points; here's what changed for market while you were sleeping       0.00      0.00      0.00         1\n",
            "                                                         SRF shares  rise  1.05% as Sensex  climbs        0.00      0.00      0.00         1\n",
            "                                            Sensex  falls! But these  stocks are up over 15% on BSE       0.00      0.00      0.00         1\n",
            "                                            Sensex  falls! These  stocks are down 5% or more on BSE       0.00      0.00      0.00         1\n",
            "                                        Sensex  rises! But these  stocks are down 5% or more on BSE       0.00      0.00      0.00         1\n",
            "                               Sensex  rises! But these  stocks fell 5% or more in Monday's session       0.00      0.00      0.00         1\n",
            "                              Sensex  rises! But these  stocks fell 5% or more in Tuesday's session       0.00      0.00      0.00         1\n",
            "                                                Sensex  rises! These  stocks are up over 10% on BSE       0.00      0.00      0.00         1\n",
            "                  Share market update: Most active stocks of the day in terms of total traded value       0.00      0.00      0.00         1\n",
            "                       Share market update: Most active stocks on D-Street today in terms of volume       0.00      0.00      0.00         1\n",
            "                                          Share price of Page Industries  falls  as Nifty  weakens        0.00      0.00      0.00         1\n",
            "                                      Share price of Page Industries  rises  as Nifty  strengthens        0.00      0.00      0.00         1\n",
            "                                        Share price of Shree Cements  rises  as Nifty  strengthens        0.00      0.00      0.00         1\n",
            "                             Share price of Shriram Trans Fin  falls  as Sensex  drops  8.91 points       0.00      0.00      0.00         1\n",
            "                                                 Shares of Avenue Supermart  rise  as Nifty  gains        0.00      0.00      0.00         1\n",
            "                                                 Shriram Trans Fin share price  down  4.97 per cent       0.00      0.00      0.00         1\n",
            "                                            Shriram Trans Fin shares  gain  0.96% as Sensex  rises        0.00      0.00      0.00         1\n",
            "                              Shyam Sekhar says popular market trends, themes scare him. Here's why       0.00      0.00      0.00         1\n",
            "                                   Stock market update: Fertilisers stocks  down  as market  falls        0.00      0.00      0.00         1\n",
            "                                   Stock market update: Fertilisers stocks  down  as market  rises        0.00      0.00      0.00         1\n",
            "                                          Stock market update: Mining stocks  up  as market  rises        0.00      0.00      0.00         1\n",
            "                                             Stock market update: Nifty Auto index  advances  2.23%       0.00      0.00      0.00         1\n",
            "                                                Stock market update: Nifty Auto index  falls  1.15%       0.00      0.00      0.00         1\n",
            "                                                Stock market update: Nifty Bank index  falls  1.11%       0.00      0.00      0.00         1\n",
            "                                Stock market update: Nifty IT index  falls  0.1% in  a weak  market       0.00      0.00      0.00         1\n",
            "                                                  Stock market update: Nifty IT index  falls  1.49%       0.00      0.00      0.00         1\n",
            "                     Stock market update: Nifty Pharma index  advances  0.55% in  an upbeat  market       0.00      0.00      0.00         1\n",
            "                           Stock market update: Nifty Realty index  falls  1.51% in  a weak  market       0.00      0.00      0.00         1\n",
            "                                         Stock market update: Power stocks  down  as market  rises        0.00      0.00      0.00         1\n",
            "                                           Stock market update: Power stocks  up  as market  falls        0.00      0.00      0.00         1\n",
            "                                          Stock market update: Stocks that hit 52-week highs on NSE       0.01      1.00      0.02         1\n",
            "                         Stock market update: Stocks that hit 52-week highs on NSE in today's trade       0.00      0.00      0.00         1\n",
            "                                           Stock market update: Stocks that hit 52-week lows on NSE       0.00      0.00      0.00         2\n",
            "                          Stock market update: Stocks that hit 52-week lows on NSE in today's trade       0.00      0.00      0.00         2\n",
            "                                         Stock market update: Sugar stocks  down  as market  falls        0.00      0.00      0.00         2\n",
            "                                           Stock market update: Sugar stocks  up  as market  rises        0.00      0.00      0.00         1\n",
            "                                   Stocks dip, bonds drop as German surprise renews inflation fears       0.00      0.00      0.00         1\n",
            "Supreme Courts observation in Ocean Freight ruling could change landscape of GST framework: Experts       0.00      0.00      0.00         1\n",
            "                                Taking large cash calls is not as critical as it is perceived to be       0.00      0.00      0.00         1\n",
            "                                         The case for big Fed rate hikes just got a little stronger       0.00      0.00      0.00         1\n",
            "                                    These stocks are slated to suffer due to rising palm oil prices       0.00      0.00      0.00         1\n",
            "                               This one factor holds a clue to when the worst FII selloff might end       0.00      0.00      0.00         1\n",
            "                                                         WTO Ministerial: The night before the deal       0.00      0.00      0.00         1\n",
            "                                          Wall Street ends higher after choppy session ahead of Fed       0.00      0.00      0.00         1\n",
            "                                      What UBS says on Tech Mahindra; CLSA on SBI and Eicher Motors       0.00      0.00      0.00         1\n",
            "                            Which stocks will lead the next bull market? Check technical indicators       0.00      0.00      0.00         1\n",
            "                                                     Zee Ent. shares  gain  1.16% as Sensex  rises        0.00      0.00      0.00         1\n",
            "                      Zee Learn drops 18% as YES Bank initiates insolvency proceedings against firm       0.00      0.00      0.00         1\n",
            "                                      Zomato slides for second day after Blinkit deal, down over 7%       0.00      0.00      0.00         1\n",
            "                         eMudhra: Should you exit stock after decent listing or hold for long term?       0.00      0.00      0.00         1\n",
            "\n",
            "                                                                                           accuracy                           0.01       120\n",
            "                                                                                          macro avg       0.00      0.01      0.00       120\n",
            "                                                                                       weighted avg       0.00      0.01      0.00       120\n",
            "\n"
          ]
        },
        {
          "output_type": "stream",
          "name": "stderr",
          "text": [
            "/usr/local/lib/python3.10/dist-packages/sklearn/metrics/_classification.py:1531: UndefinedMetricWarning: Precision is ill-defined and being set to 0.0 in labels with no predicted samples. Use `zero_division` parameter to control this behavior.\n",
            "  _warn_prf(average, modifier, f\"{metric.capitalize()} is\", len(result))\n",
            "/usr/local/lib/python3.10/dist-packages/sklearn/metrics/_classification.py:1531: UndefinedMetricWarning: Precision is ill-defined and being set to 0.0 in labels with no predicted samples. Use `zero_division` parameter to control this behavior.\n",
            "  _warn_prf(average, modifier, f\"{metric.capitalize()} is\", len(result))\n",
            "/usr/local/lib/python3.10/dist-packages/sklearn/metrics/_classification.py:1531: UndefinedMetricWarning: Precision is ill-defined and being set to 0.0 in labels with no predicted samples. Use `zero_division` parameter to control this behavior.\n",
            "  _warn_prf(average, modifier, f\"{metric.capitalize()} is\", len(result))\n"
          ]
        }
      ]
    }
  ]
}